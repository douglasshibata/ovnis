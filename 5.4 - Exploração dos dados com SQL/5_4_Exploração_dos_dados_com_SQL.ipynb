{
  "nbformat": 4,
  "nbformat_minor": 0,
  "metadata": {
    "colab": {
      "name": "5.4 - Exploração dos dados com SQL",
      "provenance": [],
      "collapsed_sections": [],
      "authorship_tag": "ABX9TyMHNOwPTG6z8v/H0j1EFAKA",
      "include_colab_link": true
    },
    "kernelspec": {
      "name": "python3",
      "display_name": "Python 3"
    }
  },
  "cells": [
    {
      "cell_type": "markdown",
      "metadata": {
        "id": "view-in-github",
        "colab_type": "text"
      },
      "source": [
        "<a href=\"https://colab.research.google.com/github/Shibata18/DataSciencePandas/blob/master/5_4_Explora%C3%A7%C3%A3o_dos_dados_com_SQL.ipynb\" target=\"_parent\"><img src=\"https://colab.research.google.com/assets/colab-badge.svg\" alt=\"Open In Colab\"/></a>"
      ]
    },
    {
      "cell_type": "markdown",
      "metadata": {
        "id": "ys9od7wdZBDD",
        "colab_type": "text"
      },
      "source": [
        "# **5.4 - Exploração dos dados com SQL**\n",
        "\n",
        "1.   Saber a quantidade de linhas, observações ou variáveis que foram coletadas.\n",
        "2.   Quantos relatos ocorreram por estado em ordem decrescente?\n",
        "\n",
        "1.   Remover possíveis campos vazios (sem estado).\n",
        "\n",
        "2.   Limitar a análise aos estados dos Estados Unidos.\n",
        "\n",
        "1.   Consulta por cidades, com o objetivo de saber quais contêm o maior número de relatos (cidades que apresentem ao menos 10 relatos).\n",
        "2.   Com o dado anterior, responder a seguinte pergunta: por que será que essa é a cidade que possui mais relatos?\n",
        "\n",
        "1.  Fazer uma query exclusiva para o estado com maior número de relatos, buscando cidades que possuam um número superior a 10 relatórios. Enfatizar a cidade, a quantidade de relatos e formato do objeto não identificado.\n",
        "\n",
        "\n",
        "\n",
        "\n"
      ]
    },
    {
      "cell_type": "code",
      "metadata": {
        "id": "s3VbnbBsfDSa",
        "colab_type": "code",
        "colab": {
          "base_uri": "https://localhost:8080/",
          "height": 136
        },
        "outputId": "d7efaaf5-9b34-4c82-e64f-0d549746d19c"
      },
      "source": [
        "#Para baixar o pandas sql, apenas tirar a # e executar a célula\n",
        "!pip install pandasql"
      ],
      "execution_count": 29,
      "outputs": [
        {
          "output_type": "stream",
          "text": [
            "Requirement already satisfied: pandasql in /usr/local/lib/python3.6/dist-packages (0.7.3)\n",
            "Requirement already satisfied: sqlalchemy in /usr/local/lib/python3.6/dist-packages (from pandasql) (1.3.19)\n",
            "Requirement already satisfied: numpy in /usr/local/lib/python3.6/dist-packages (from pandasql) (1.18.5)\n",
            "Requirement already satisfied: pandas in /usr/local/lib/python3.6/dist-packages (from pandasql) (1.0.5)\n",
            "Requirement already satisfied: pytz>=2017.2 in /usr/local/lib/python3.6/dist-packages (from pandas->pandasql) (2018.9)\n",
            "Requirement already satisfied: python-dateutil>=2.6.1 in /usr/local/lib/python3.6/dist-packages (from pandas->pandasql) (2.8.1)\n",
            "Requirement already satisfied: six>=1.5 in /usr/local/lib/python3.6/dist-packages (from python-dateutil>=2.6.1->pandas->pandasql) (1.15.0)\n"
          ],
          "name": "stdout"
        }
      ]
    },
    {
      "cell_type": "code",
      "metadata": {
        "id": "mL24PfwT_B1H",
        "colab_type": "code",
        "colab": {}
      },
      "source": [
        "#Importando a biblioteca pandasql e pandas\n",
        "import pandasql\n",
        "import pandas as pd"
      ],
      "execution_count": 30,
      "outputs": []
    },
    {
      "cell_type": "code",
      "metadata": {
        "id": "SGP6AKfz-vBa",
        "colab_type": "code",
        "colab": {
          "base_uri": "https://localhost:8080/",
          "height": 419
        },
        "outputId": "8b9da51b-c142-4500-df5a-8a3772987c63"
      },
      "source": [
        "ovnis = pd.read_csv('OVNIS.csv')\n",
        "ovnis"
      ],
      "execution_count": 25,
      "outputs": [
        {
          "output_type": "execute_result",
          "data": {
            "text/html": [
              "<div>\n",
              "<style scoped>\n",
              "    .dataframe tbody tr th:only-of-type {\n",
              "        vertical-align: middle;\n",
              "    }\n",
              "\n",
              "    .dataframe tbody tr th {\n",
              "        vertical-align: top;\n",
              "    }\n",
              "\n",
              "    .dataframe thead th {\n",
              "        text-align: right;\n",
              "    }\n",
              "</style>\n",
              "<table border=\"1\" class=\"dataframe\">\n",
              "  <thead>\n",
              "    <tr style=\"text-align: right;\">\n",
              "      <th></th>\n",
              "      <th>Date / Time</th>\n",
              "      <th>City</th>\n",
              "      <th>State</th>\n",
              "      <th>Shape</th>\n",
              "      <th>Duration</th>\n",
              "      <th>Summary</th>\n",
              "      <th>Posted</th>\n",
              "    </tr>\n",
              "  </thead>\n",
              "  <tbody>\n",
              "    <tr>\n",
              "      <th>0</th>\n",
              "      <td>9/30/97 20:00</td>\n",
              "      <td>Nova Scotia (Canada)</td>\n",
              "      <td>NS</td>\n",
              "      <td>Light</td>\n",
              "      <td>8-10 seconds.</td>\n",
              "      <td>Single light resembling a star, but moving spu...</td>\n",
              "      <td>10/30/06</td>\n",
              "    </tr>\n",
              "    <tr>\n",
              "      <th>1</th>\n",
              "      <td>9/22/97 20:00</td>\n",
              "      <td>Solomons Island</td>\n",
              "      <td>MD</td>\n",
              "      <td>Disk</td>\n",
              "      <td>10 minutes</td>\n",
              "      <td>Close up at twilight,  Stationary UFO.</td>\n",
              "      <td>8/5/09</td>\n",
              "    </tr>\n",
              "    <tr>\n",
              "      <th>2</th>\n",
              "      <td>9/19/97</td>\n",
              "      <td>Garden Grove</td>\n",
              "      <td>CA</td>\n",
              "      <td>Rectangle</td>\n",
              "      <td>4 mins.</td>\n",
              "      <td>Around 6:30 PM I was walking through a Vons Pa...</td>\n",
              "      <td>12/1/19</td>\n",
              "    </tr>\n",
              "    <tr>\n",
              "      <th>3</th>\n",
              "      <td>9/18/97 20:15</td>\n",
              "      <td>Panama City</td>\n",
              "      <td>FL</td>\n",
              "      <td>Unknown</td>\n",
              "      <td>30 seconds</td>\n",
              "      <td>Looked like stars in the sky so far up/moveing...</td>\n",
              "      <td>3/13/12</td>\n",
              "    </tr>\n",
              "    <tr>\n",
              "      <th>4</th>\n",
              "      <td>9/15/97 00:00</td>\n",
              "      <td>Houston</td>\n",
              "      <td>TX</td>\n",
              "      <td>Disk</td>\n",
              "      <td>5 minutes</td>\n",
              "      <td>Beautiful silver-colored flying saucer about t...</td>\n",
              "      <td>7/19/10</td>\n",
              "    </tr>\n",
              "    <tr>\n",
              "      <th>...</th>\n",
              "      <td>...</td>\n",
              "      <td>...</td>\n",
              "      <td>...</td>\n",
              "      <td>...</td>\n",
              "      <td>...</td>\n",
              "      <td>...</td>\n",
              "      <td>...</td>\n",
              "    </tr>\n",
              "    <tr>\n",
              "      <th>71896</th>\n",
              "      <td>8/1/17 02:45</td>\n",
              "      <td>Corcoran</td>\n",
              "      <td>MN</td>\n",
              "      <td>Light</td>\n",
              "      <td>Still going</td>\n",
              "      <td>Small light south west of Minneapolis maneuver...</td>\n",
              "      <td>8/4/17</td>\n",
              "    </tr>\n",
              "    <tr>\n",
              "      <th>71897</th>\n",
              "      <td>8/1/17 02:00</td>\n",
              "      <td>Moreno Valley</td>\n",
              "      <td>CA</td>\n",
              "      <td>Other</td>\n",
              "      <td>10 seconds</td>\n",
              "      <td>I was looking out the front windshield and loo...</td>\n",
              "      <td>8/4/17</td>\n",
              "    </tr>\n",
              "    <tr>\n",
              "      <th>71898</th>\n",
              "      <td>8/1/17 01:00</td>\n",
              "      <td>Bradenton</td>\n",
              "      <td>FL</td>\n",
              "      <td>Other</td>\n",
              "      <td>&lt;20 seconds</td>\n",
              "      <td>I was walking my dog about 1am on August 1, 20...</td>\n",
              "      <td>5/9/19</td>\n",
              "    </tr>\n",
              "    <tr>\n",
              "      <th>71899</th>\n",
              "      <td>8/1/17 00:00</td>\n",
              "      <td>Springdale</td>\n",
              "      <td>AR</td>\n",
              "      <td>NaN</td>\n",
              "      <td>1 hour</td>\n",
              "      <td>Glowing flying people . seven of them flying l...</td>\n",
              "      <td>2/13/20</td>\n",
              "    </tr>\n",
              "    <tr>\n",
              "      <th>71900</th>\n",
              "      <td>8/1/17</td>\n",
              "      <td>Laurel</td>\n",
              "      <td>MD</td>\n",
              "      <td>Other</td>\n",
              "      <td>NaN</td>\n",
              "      <td>It was an alien project level 1 federal ran on...</td>\n",
              "      <td>6/25/20</td>\n",
              "    </tr>\n",
              "  </tbody>\n",
              "</table>\n",
              "<p>71901 rows × 7 columns</p>\n",
              "</div>"
            ],
            "text/plain": [
              "         Date / Time  ...    Posted\n",
              "0      9/30/97 20:00  ...  10/30/06\n",
              "1      9/22/97 20:00  ...    8/5/09\n",
              "2            9/19/97  ...   12/1/19\n",
              "3      9/18/97 20:15  ...   3/13/12\n",
              "4      9/15/97 00:00  ...   7/19/10\n",
              "...              ...  ...       ...\n",
              "71896   8/1/17 02:45  ...    8/4/17\n",
              "71897   8/1/17 02:00  ...    8/4/17\n",
              "71898   8/1/17 01:00  ...    5/9/19\n",
              "71899   8/1/17 00:00  ...   2/13/20\n",
              "71900         8/1/17  ...   6/25/20\n",
              "\n",
              "[71901 rows x 7 columns]"
            ]
          },
          "metadata": {
            "tags": []
          },
          "execution_count": 25
        }
      ]
    },
    {
      "cell_type": "code",
      "metadata": {
        "id": "Kjzy4Q5WY_g-",
        "colab_type": "code",
        "colab": {
          "base_uri": "https://localhost:8080/",
          "height": 34
        },
        "outputId": "8459776b-69a7-4603-a822-fb448148b41f"
      },
      "source": [
        "#Saber a quantidade de linhas, observações ou variáveis que foram coletadas.\n",
        "print(\"Quantidade de Linhas coletadas: \",len(ovnis))"
      ],
      "execution_count": 26,
      "outputs": [
        {
          "output_type": "stream",
          "text": [
            "Quantidade de Linhas coletadas:  71901\n"
          ],
          "name": "stdout"
        }
      ]
    },
    {
      "cell_type": "code",
      "metadata": {
        "id": "3LxY3b6JaX0M",
        "colab_type": "code",
        "colab": {
          "base_uri": "https://localhost:8080/",
          "height": 221
        },
        "outputId": "5208159d-3100-4baa-ccd3-2b71a3867187"
      },
      "source": [
        "#Quantos relatos ocorreram por estado em ordem decrescente?\n",
        "estados =ovnis.State.value_counts()\n",
        "estados.sort_values(ascending=False)"
      ],
      "execution_count": 27,
      "outputs": [
        {
          "output_type": "execute_result",
          "data": {
            "text/plain": [
              "CA    7911\n",
              "FL    4352\n",
              "WA    3225\n",
              "TX    2882\n",
              "NY    2824\n",
              "      ... \n",
              "NF      21\n",
              "YT      14\n",
              "PE       9\n",
              "NT       7\n",
              "SA       4\n",
              "Name: State, Length: 64, dtype: int64"
            ]
          },
          "metadata": {
            "tags": []
          },
          "execution_count": 27
        }
      ]
    },
    {
      "cell_type": "code",
      "metadata": {
        "id": "7hpOAICkeCDP",
        "colab_type": "code",
        "colab": {
          "base_uri": "https://localhost:8080/",
          "height": 136
        },
        "outputId": "563f7c1d-3b04-4a04-f31c-aca928a1bf69"
      },
      "source": [
        "#Remover possíveis campos vazios (sem estado).\n",
        "ovnis.State.dropna()\n",
        "ovnis.State.sort_values(ascending=True).unique()"
      ],
      "execution_count": 66,
      "outputs": [
        {
          "output_type": "execute_result",
          "data": {
            "text/plain": [
              "array(['AB', 'AK', 'AL', 'AR', 'AZ', 'BC', 'CA', 'CO', 'CT', 'DC', 'DE',\n",
              "       'FL', 'GA', 'HI', 'IA', 'ID', 'IL', 'IN', 'KS', 'KY', 'LA', 'MA',\n",
              "       'MB', 'MD', 'ME', 'MI', 'MN', 'MO', 'MS', 'MT', 'NB', 'NC', 'ND',\n",
              "       'NE', 'NF', 'NH', 'NJ', 'NM', 'NS', 'NT', 'NV', 'NY', 'OH', 'OK',\n",
              "       'ON', 'OR', 'PA', 'PE', 'QC', 'RI', 'SA', 'SC', 'SD', 'SK', 'TN',\n",
              "       'TX', 'UT', 'VA', 'VT', 'WA', 'WI', 'WV', 'WY', 'YT', nan],\n",
              "      dtype=object)"
            ]
          },
          "metadata": {
            "tags": []
          },
          "execution_count": 66
        }
      ]
    },
    {
      "cell_type": "code",
      "metadata": {
        "id": "BQ1XuQGIpwhb",
        "colab_type": "code",
        "colab": {
          "base_uri": "https://localhost:8080/",
          "height": 419
        },
        "outputId": "35bc4556-5a66-4a7f-f57c-77bd5e7a501c"
      },
      "source": [
        "#Limitar a análise aos estados dos Estados Unidos.\n",
        "q = \"\"\"\n",
        "   SELECT * from total where State LIKE '%AK%' OR State LIKE '%AL%'\n",
        "OR State LIKE '%AR%'\n",
        "OR State LIKE '%AZ%'\n",
        "OR State LIKE '%CA%'\n",
        "OR State LIKE '%CO%'\n",
        "OR State LIKE '%CT%'\n",
        "OR State LIKE '%DE%'\n",
        "OR State LIKE '%FL%'\n",
        "OR State LIKE '%GA%'\n",
        "OR State LIKE '%HI%'\n",
        "OR State LIKE '%IA%'\n",
        "OR State LIKE '%ID%'\n",
        "OR State LIKE '%IL%'\n",
        "OR State LIKE '%IN%'\n",
        "OR State LIKE '%KS%'\n",
        "OR State LIKE '%KY%'\n",
        "OR State LIKE '%LA%'\n",
        "OR State LIKE '%MA%'\n",
        "OR State LIKE '%MD%'\n",
        "OR State LIKE '%ME%'\n",
        "OR State LIKE '%MI%'\n",
        "OR State LIKE '%MN%'\n",
        "OR State LIKE '%MO%'\n",
        "OR State LIKE '%MS%'\n",
        "OR State LIKE '%MT%' \n",
        "OR State LIKE '%NC%' \n",
        "OR State LIKE '%ND%' \n",
        "OR State LIKE '%NE%' \n",
        "OR State LIKE '%NH%' \n",
        "OR State LIKE '%NJ%' \n",
        "OR State LIKE '%NM%' \n",
        "OR State LIKE '%NV%' \n",
        "OR State LIKE '%NY%' \n",
        "OR State LIKE '%OH%' \n",
        "OR State LIKE '%OK%' \n",
        "OR State LIKE '%OR%' \n",
        "OR State LIKE '%PA%' \n",
        "OR State LIKE '%RI%' \n",
        "OR State LIKE '%SC%' \n",
        "OR State LIKE '%SD%' \n",
        "OR State LIKE '%TN%' \n",
        "OR State LIKE '%TX%' \n",
        "OR State LIKE '%UT%' \n",
        "OR State LIKE '%VA%' \n",
        "OR State LIKE '%VT%' \n",
        "OR State LIKE '%WA%' \n",
        "OR State LIKE '%WI%' \n",
        "OR State LIKE '%WV%' \n",
        "OR State LIKE '%WY%'\n",
        "  \"\"\"\n",
        "# Executa o seu comando SQL e retorna um dataframe\n",
        "just_us = pandasql.sqldf(q.lower(), locals())\n",
        "just_us"
      ],
      "execution_count": 31,
      "outputs": [
        {
          "output_type": "execute_result",
          "data": {
            "text/html": [
              "<div>\n",
              "<style scoped>\n",
              "    .dataframe tbody tr th:only-of-type {\n",
              "        vertical-align: middle;\n",
              "    }\n",
              "\n",
              "    .dataframe tbody tr th {\n",
              "        vertical-align: top;\n",
              "    }\n",
              "\n",
              "    .dataframe thead th {\n",
              "        text-align: right;\n",
              "    }\n",
              "</style>\n",
              "<table border=\"1\" class=\"dataframe\">\n",
              "  <thead>\n",
              "    <tr style=\"text-align: right;\">\n",
              "      <th></th>\n",
              "      <th>Date / Time</th>\n",
              "      <th>City</th>\n",
              "      <th>State</th>\n",
              "      <th>Shape</th>\n",
              "      <th>Duration</th>\n",
              "      <th>Summary</th>\n",
              "      <th>Posted</th>\n",
              "    </tr>\n",
              "  </thead>\n",
              "  <tbody>\n",
              "    <tr>\n",
              "      <th>0</th>\n",
              "      <td>9/22/97 20:00</td>\n",
              "      <td>Solomons Island</td>\n",
              "      <td>MD</td>\n",
              "      <td>Disk</td>\n",
              "      <td>10 minutes</td>\n",
              "      <td>Close up at twilight,  Stationary UFO.</td>\n",
              "      <td>8/5/09</td>\n",
              "    </tr>\n",
              "    <tr>\n",
              "      <th>1</th>\n",
              "      <td>9/19/97</td>\n",
              "      <td>Garden Grove</td>\n",
              "      <td>CA</td>\n",
              "      <td>Rectangle</td>\n",
              "      <td>4 mins.</td>\n",
              "      <td>Around 6:30 PM I was walking through a Vons Pa...</td>\n",
              "      <td>12/1/19</td>\n",
              "    </tr>\n",
              "    <tr>\n",
              "      <th>2</th>\n",
              "      <td>9/18/97 20:15</td>\n",
              "      <td>Panama City</td>\n",
              "      <td>FL</td>\n",
              "      <td>Unknown</td>\n",
              "      <td>30 seconds</td>\n",
              "      <td>Looked like stars in the sky so far up/moveing...</td>\n",
              "      <td>3/13/12</td>\n",
              "    </tr>\n",
              "    <tr>\n",
              "      <th>3</th>\n",
              "      <td>9/15/97 00:00</td>\n",
              "      <td>Houston</td>\n",
              "      <td>TX</td>\n",
              "      <td>Disk</td>\n",
              "      <td>5 minutes</td>\n",
              "      <td>Beautiful silver-colored flying saucer about t...</td>\n",
              "      <td>7/19/10</td>\n",
              "    </tr>\n",
              "    <tr>\n",
              "      <th>4</th>\n",
              "      <td>9/15/97 20:00</td>\n",
              "      <td>Santa Fe</td>\n",
              "      <td>NM</td>\n",
              "      <td>Light</td>\n",
              "      <td>2-3 minutes</td>\n",
              "      <td>Saw white dot of light moving in zig-zag motio...</td>\n",
              "      <td>11/9/17</td>\n",
              "    </tr>\n",
              "    <tr>\n",
              "      <th>...</th>\n",
              "      <td>...</td>\n",
              "      <td>...</td>\n",
              "      <td>...</td>\n",
              "      <td>...</td>\n",
              "      <td>...</td>\n",
              "      <td>...</td>\n",
              "      <td>...</td>\n",
              "    </tr>\n",
              "    <tr>\n",
              "      <th>64892</th>\n",
              "      <td>8/1/17 02:45</td>\n",
              "      <td>Corcoran</td>\n",
              "      <td>MN</td>\n",
              "      <td>Light</td>\n",
              "      <td>Still going</td>\n",
              "      <td>Small light south west of Minneapolis maneuver...</td>\n",
              "      <td>8/4/17</td>\n",
              "    </tr>\n",
              "    <tr>\n",
              "      <th>64893</th>\n",
              "      <td>8/1/17 02:00</td>\n",
              "      <td>Moreno Valley</td>\n",
              "      <td>CA</td>\n",
              "      <td>Other</td>\n",
              "      <td>10 seconds</td>\n",
              "      <td>I was looking out the front windshield and loo...</td>\n",
              "      <td>8/4/17</td>\n",
              "    </tr>\n",
              "    <tr>\n",
              "      <th>64894</th>\n",
              "      <td>8/1/17 01:00</td>\n",
              "      <td>Bradenton</td>\n",
              "      <td>FL</td>\n",
              "      <td>Other</td>\n",
              "      <td>&lt;20 seconds</td>\n",
              "      <td>I was walking my dog about 1am on August 1, 20...</td>\n",
              "      <td>5/9/19</td>\n",
              "    </tr>\n",
              "    <tr>\n",
              "      <th>64895</th>\n",
              "      <td>8/1/17 00:00</td>\n",
              "      <td>Springdale</td>\n",
              "      <td>AR</td>\n",
              "      <td>None</td>\n",
              "      <td>1 hour</td>\n",
              "      <td>Glowing flying people . seven of them flying l...</td>\n",
              "      <td>2/13/20</td>\n",
              "    </tr>\n",
              "    <tr>\n",
              "      <th>64896</th>\n",
              "      <td>8/1/17</td>\n",
              "      <td>Laurel</td>\n",
              "      <td>MD</td>\n",
              "      <td>Other</td>\n",
              "      <td>None</td>\n",
              "      <td>It was an alien project level 1 federal ran on...</td>\n",
              "      <td>6/25/20</td>\n",
              "    </tr>\n",
              "  </tbody>\n",
              "</table>\n",
              "<p>64897 rows × 7 columns</p>\n",
              "</div>"
            ],
            "text/plain": [
              "         Date / Time  ...   Posted\n",
              "0      9/22/97 20:00  ...   8/5/09\n",
              "1            9/19/97  ...  12/1/19\n",
              "2      9/18/97 20:15  ...  3/13/12\n",
              "3      9/15/97 00:00  ...  7/19/10\n",
              "4      9/15/97 20:00  ...  11/9/17\n",
              "...              ...  ...      ...\n",
              "64892   8/1/17 02:45  ...   8/4/17\n",
              "64893   8/1/17 02:00  ...   8/4/17\n",
              "64894   8/1/17 01:00  ...   5/9/19\n",
              "64895   8/1/17 00:00  ...  2/13/20\n",
              "64896         8/1/17  ...  6/25/20\n",
              "\n",
              "[64897 rows x 7 columns]"
            ]
          },
          "metadata": {
            "tags": []
          },
          "execution_count": 31
        }
      ]
    },
    {
      "cell_type": "code",
      "metadata": {
        "id": "MnV7u1zt_W8O",
        "colab_type": "code",
        "colab": {}
      },
      "source": [
        "just_us.to_csv('dados_usa.csv')"
      ],
      "execution_count": 35,
      "outputs": []
    },
    {
      "cell_type": "code",
      "metadata": {
        "id": "WxPQqR4-2Zlc",
        "colab_type": "code",
        "colab": {
          "base_uri": "https://localhost:8080/",
          "height": 119
        },
        "outputId": "4d1029fb-c917-4426-85a6-3461f4452277"
      },
      "source": [
        "cidades_usa =just_us.City.value_counts()\n",
        "cidades_usa[cidades_usa >=10]\n",
        "cidades_usa.head()"
      ],
      "execution_count": 32,
      "outputs": [
        {
          "output_type": "execute_result",
          "data": {
            "text/plain": [
              "Phoenix      366\n",
              "Las Vegas    338\n",
              "Seattle      323\n",
              "Portland     318\n",
              "San Diego    272\n",
              "Name: City, dtype: int64"
            ]
          },
          "metadata": {
            "tags": []
          },
          "execution_count": 32
        }
      ]
    },
    {
      "cell_type": "code",
      "metadata": {
        "id": "uJXKR3hj28Iw",
        "colab_type": "code",
        "colab": {
          "base_uri": "https://localhost:8080/",
          "height": 419
        },
        "outputId": "a18a8134-2ec7-4900-b73c-fa857dbe2866"
      },
      "source": [
        "#Fazer uma query exclusiva para o estado com maior número de relatos, buscando cidades que possuam um número superior a 10 relatórios.\n",
        "#Enfatizar a cidade, a quantidade de relatos e formato do objeto não identificado.\n",
        "\n",
        "# Executa o seu comando SQL e retorna um dataframe\n",
        "query = '''\n",
        " SELECT CITY,Count(City) as 'Numero de Ocorrencias', Shape FROM just_us  group by city,shape  having count(City)>=10 order by  count(City) desc\n",
        "'''\n",
        "pandasql.sqldf(query.lower(), locals())\n"
      ],
      "execution_count": 33,
      "outputs": [
        {
          "output_type": "execute_result",
          "data": {
            "text/html": [
              "<div>\n",
              "<style scoped>\n",
              "    .dataframe tbody tr th:only-of-type {\n",
              "        vertical-align: middle;\n",
              "    }\n",
              "\n",
              "    .dataframe tbody tr th {\n",
              "        vertical-align: top;\n",
              "    }\n",
              "\n",
              "    .dataframe thead th {\n",
              "        text-align: right;\n",
              "    }\n",
              "</style>\n",
              "<table border=\"1\" class=\"dataframe\">\n",
              "  <thead>\n",
              "    <tr style=\"text-align: right;\">\n",
              "      <th></th>\n",
              "      <th>City</th>\n",
              "      <th>numero de ocorrencias</th>\n",
              "      <th>Shape</th>\n",
              "    </tr>\n",
              "  </thead>\n",
              "  <tbody>\n",
              "    <tr>\n",
              "      <th>0</th>\n",
              "      <td>Seattle</td>\n",
              "      <td>75</td>\n",
              "      <td>Light</td>\n",
              "    </tr>\n",
              "    <tr>\n",
              "      <th>1</th>\n",
              "      <td>Las Vegas</td>\n",
              "      <td>74</td>\n",
              "      <td>Light</td>\n",
              "    </tr>\n",
              "    <tr>\n",
              "      <th>2</th>\n",
              "      <td>Phoenix</td>\n",
              "      <td>72</td>\n",
              "      <td>Light</td>\n",
              "    </tr>\n",
              "    <tr>\n",
              "      <th>3</th>\n",
              "      <td>San Diego</td>\n",
              "      <td>71</td>\n",
              "      <td>Light</td>\n",
              "    </tr>\n",
              "    <tr>\n",
              "      <th>4</th>\n",
              "      <td>Myrtle Beach</td>\n",
              "      <td>66</td>\n",
              "      <td>Light</td>\n",
              "    </tr>\n",
              "    <tr>\n",
              "      <th>...</th>\n",
              "      <td>...</td>\n",
              "      <td>...</td>\n",
              "      <td>...</td>\n",
              "    </tr>\n",
              "    <tr>\n",
              "      <th>564</th>\n",
              "      <td>Virginia Beach</td>\n",
              "      <td>10</td>\n",
              "      <td>Sphere</td>\n",
              "    </tr>\n",
              "    <tr>\n",
              "      <th>565</th>\n",
              "      <td>Visalia</td>\n",
              "      <td>10</td>\n",
              "      <td>Light</td>\n",
              "    </tr>\n",
              "    <tr>\n",
              "      <th>566</th>\n",
              "      <td>Wellington</td>\n",
              "      <td>10</td>\n",
              "      <td>Light</td>\n",
              "    </tr>\n",
              "    <tr>\n",
              "      <th>567</th>\n",
              "      <td>Woodbridge</td>\n",
              "      <td>10</td>\n",
              "      <td>Light</td>\n",
              "    </tr>\n",
              "    <tr>\n",
              "      <th>568</th>\n",
              "      <td>York</td>\n",
              "      <td>10</td>\n",
              "      <td>Circle</td>\n",
              "    </tr>\n",
              "  </tbody>\n",
              "</table>\n",
              "<p>569 rows × 3 columns</p>\n",
              "</div>"
            ],
            "text/plain": [
              "               City  numero de ocorrencias   Shape\n",
              "0           Seattle                     75   Light\n",
              "1         Las Vegas                     74   Light\n",
              "2           Phoenix                     72   Light\n",
              "3         San Diego                     71   Light\n",
              "4      Myrtle Beach                     66   Light\n",
              "..              ...                    ...     ...\n",
              "564  Virginia Beach                     10  Sphere\n",
              "565         Visalia                     10   Light\n",
              "566      Wellington                     10   Light\n",
              "567      Woodbridge                     10   Light\n",
              "568            York                     10  Circle\n",
              "\n",
              "[569 rows x 3 columns]"
            ]
          },
          "metadata": {
            "tags": []
          },
          "execution_count": 33
        }
      ]
    }
  ]
}