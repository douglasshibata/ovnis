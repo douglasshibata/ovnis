{
  "nbformat": 4,
  "nbformat_minor": 0,
  "metadata": {
    "colab": {
      "name": "ICD&IA",
      "provenance": [],
      "collapsed_sections": [],
      "authorship_tag": "ABX9TyPwFwc13hdX2PwJOT9Tws97",
      "include_colab_link": true
    },
    "kernelspec": {
      "name": "python3",
      "display_name": "Python 3"
    }
  },
  "cells": [
    {
      "cell_type": "markdown",
      "metadata": {
        "id": "view-in-github",
        "colab_type": "text"
      },
      "source": [
        "<a href=\"https://colab.research.google.com/github/Shibata18/DataSciencePandas/blob/master/ColetaDeDados.ipynb\" target=\"_parent\"><img src=\"https://colab.research.google.com/assets/colab-badge.svg\" alt=\"Open In Colab\"/></a>"
      ]
    },
    {
      "cell_type": "code",
      "metadata": {
        "id": "VelfrjgeJlzV",
        "colab_type": "code",
        "colab": {}
      },
      "source": [
        "import requests\n",
        "from bs4 import BeautifulSoup\n",
        "import pandas as pd"
      ],
      "execution_count": 1,
      "outputs": []
    },
    {
      "cell_type": "code",
      "metadata": {
        "id": "avdEKCmkJo7R",
        "colab_type": "code",
        "colab": {}
      },
      "source": [
        "td_data = list()\n",
        "th_data = list()"
      ],
      "execution_count": 2,
      "outputs": []
    },
    {
      "cell_type": "code",
      "metadata": {
        "id": "Fve2QpYsJvdj",
        "colab_type": "code",
        "colab": {
          "base_uri": "https://localhost:8080/",
          "height": 68
        },
        "outputId": "e9dcfa59-1d13-48e6-ef9e-2f0ad1daae93",
        "tags": []
      },
      "source": [
        "#1997\n",
        "print('Ano 1997')\n",
        "print('Mês 09')\n",
        "URL = f'http://www.nuforc.org/webreports/ndxe199709.html'\n",
        "headers={\n",
        "    'User-Agent':'Mozilla/5.0 (X11; Linux x86_64) AppleWebKit/537.36 (KHTML, like Gecko) Chrome/51.0.2704.103 Safari/537.36'\n",
        "}\n",
        "page = requests.get(URL,headers=headers)\n",
        "soup = BeautifulSoup(page.content,'html.parser')\n",
        "table = soup.findAll('table')[0]\n",
        "tr = table.findAll(['tr'])\n",
        "try:   \n",
        "        for cell in tr:\n",
        "            th = cell.find_all('th')\n",
        "            th_data.append([col.text.strip('\\n') for col in th])\n",
        "            td = cell.find_all('td')\n",
        "            row = [i.text.replace('\\n','') for i in td]\n",
        "            td_data.append(row)\n",
        "finally:   \n",
        "    print('concluido')"
      ],
      "execution_count": 3,
      "outputs": [
        {
          "output_type": "stream",
          "name": "stdout",
          "text": "Ano 1997\nMês 09\nconcluido\n"
        }
      ]
    },
    {
      "cell_type": "code",
      "metadata": {
        "id": "da1iQPsoIJhd",
        "colab_type": "code",
        "colab": {
          "base_uri": "https://localhost:8080/",
          "height": 663
        },
        "outputId": "5b10cf50-6e71-4c1f-ee2b-bdb891243d38",
        "tags": []
      },
      "source": [
        "#1998 até 1999 e mês de 1 até 9\n",
        "for i in range(8,10):\n",
        "  print('Ano 199{}'.format(i))\n",
        "  for p in range(1,10):\n",
        "    print('Mês ',p)\n",
        "    URL = f'http://www.nuforc.org/webreports/ndxe199{i}0{p}.html'\n",
        "    headers={\n",
        "        'User-Agent':'Mozilla/5.0 (X11; Linux x86_64) AppleWebKit/537.36 (KHTML, like Gecko) Chrome/51.0.2704.103 Safari/537.36'\n",
        "    }\n",
        "    page = requests.get(URL,headers=headers)\n",
        "    soup = BeautifulSoup(page.content,'html.parser')\n",
        "    table = soup.findAll('table')[0]\n",
        "    tr = table.findAll(['tr'])\n",
        "    try:   \n",
        "            for cell in tr:\n",
        "                th = cell.find_all('th')\n",
        "                th_data.append([col.text.strip('\\n') for col in th])\n",
        "                td = cell.find_all('td')\n",
        "                row = [i.text.replace('\\n','') for i in td]\n",
        "                td_data.append(row)\n",
        "    finally:   \n",
        "        print('concluido')"
      ],
      "execution_count": 4,
      "outputs": [
        {
          "output_type": "stream",
          "name": "stdout",
          "text": "Ano 1998\nMês  1\nconcluido\nMês  2\nconcluido\nMês  3\nconcluido\nMês  4\nconcluido\nMês  5\nconcluido\nMês  6\nconcluido\nMês  7\nconcluido\nMês  8\nconcluido\nMês  9\nconcluido\nAno 1999\nMês  1\nconcluido\nMês  2\nconcluido\nMês  3\nconcluido\nMês  4\nconcluido\nMês  5\nconcluido\nMês  6\nconcluido\nMês  7\nconcluido\nMês  8\nconcluido\nMês  9\nconcluido\n"
        }
      ]
    },
    {
      "cell_type": "code",
      "metadata": {
        "id": "thPKXvmyIbSF",
        "colab_type": "code",
        "colab": {
          "base_uri": "https://localhost:8080/",
          "height": 374
        },
        "outputId": "df98b62d-3eab-4540-898b-be6c81218bbf",
        "tags": []
      },
      "source": [
        "# 1997 até 1999, mês 10 até 12\n",
        "for i in range(7,10):\n",
        "  print('Ano 199{}'.format(i))\n",
        "  for p in range(0,3):\n",
        "    print('Mês 1{}'.format(p))\n",
        "    URL = f'http://www.nuforc.org/webreports/ndxe199{i}1{p}.html'\n",
        "    headers={\n",
        "        'User-Agent':'Mozilla/5.0 (X11; Linux x86_64) AppleWebKit/537.36 (KHTML, like Gecko) Chrome/51.0.2704.103 Safari/537.36'\n",
        "    }\n",
        "    page = requests.get(URL,headers=headers)\n",
        "    soup = BeautifulSoup(page.content,'html.parser')\n",
        "    table = soup.findAll('table')[0]\n",
        "    tr = table.findAll(['tr'])\n",
        "    try:   \n",
        "            for cell in tr:\n",
        "                td = cell.find_all('td')\n",
        "                row = [i.text.replace('\\n','') for i in td]\n",
        "                td_data.append(row)\n",
        "    finally:   \n",
        "        print('concluido')"
      ],
      "execution_count": 5,
      "outputs": [
        {
          "output_type": "stream",
          "name": "stdout",
          "text": "Ano 1997\nMês 10\nconcluido\nMês 11\nconcluido\nMês 12\nconcluido\nAno 1998\nMês 10\nconcluido\nMês 11\nconcluido\nMês 12\nconcluido\nAno 1999\nMês 10\nconcluido\nMês 11\nconcluido\nMês 12\nconcluido\n"
        }
      ]
    },
    {
      "cell_type": "code",
      "metadata": {
        "id": "w-Oc5tU0JK8G",
        "colab_type": "code",
        "colab": {
          "base_uri": "https://localhost:8080/",
          "height": 1000
        },
        "outputId": "e61419e4-35bb-4e34-f191-855b728d1a87",
        "tags": []
      },
      "source": [
        "#2000 até 2009 e mês de 1 até 9\n",
        "for i in range(0,10):\n",
        "  print('Ano 200{}'.format(i))\n",
        "  for p in range(1,10):\n",
        "    print('Mês {}'.format(p))\n",
        "    URL = f'http://www.nuforc.org/webreports/ndxe200{i}0{p}.html'\n",
        "    headers={\n",
        "        'User-Agent':'Mozilla/5.0 (X11; Linux x86_64) AppleWebKit/537.36 (KHTML, like Gecko) Chrome/51.0.2704.103 Safari/537.36'\n",
        "    }\n",
        "    page = requests.get(URL,headers=headers)\n",
        "    soup = BeautifulSoup(page.content,'html.parser')\n",
        "    table = soup.findAll('table')[0]\n",
        "    tr = table.findAll(['tr'])\n",
        "    try:   \n",
        "            for cell in tr:\n",
        "                td = cell.find_all('td')\n",
        "                row = [i.text.replace('\\n','') for i in td]\n",
        "                td_data.append(row)\n",
        "    finally:   \n",
        "        print('concluido')"
      ],
      "execution_count": 6,
      "outputs": [
        {
          "output_type": "stream",
          "name": "stdout",
          "text": "Ano 2000\nMês 1\nconcluido\nMês 2\nconcluido\nMês 3\nconcluido\nMês 4\nconcluido\nMês 5\nconcluido\nMês 6\nconcluido\nMês 7\nconcluido\nMês 8\nconcluido\nMês 9\nconcluido\nAno 2001\nMês 1\nconcluido\nMês 2\nconcluido\nMês 3\nconcluido\nMês 4\nconcluido\nMês 5\nconcluido\nMês 6\nconcluido\nMês 7\nconcluido\nMês 8\nconcluido\nMês 9\nconcluido\nAno 2002\nMês 1\nconcluido\nMês 2\nconcluido\nMês 3\nconcluido\nMês 4\nconcluido\nMês 5\nconcluido\nMês 6\nconcluido\nMês 7\nconcluido\nMês 8\nconcluido\nMês 9\nconcluido\nAno 2003\nMês 1\nconcluido\nMês 2\nconcluido\nMês 3\nconcluido\nMês 4\nconcluido\nMês 5\nconcluido\nMês 6\nconcluido\nMês 7\nconcluido\nMês 8\nconcluido\nMês 9\nconcluido\nAno 2004\nMês 1\nconcluido\nMês 2\nconcluido\nMês 3\nconcluido\nMês 4\nconcluido\nMês 5\nconcluido\nMês 6\nconcluido\nMês 7\nconcluido\nMês 8\nconcluido\nMês 9\nconcluido\nAno 2005\nMês 1\nconcluido\nMês 2\nconcluido\nMês 3\nconcluido\nMês 4\nconcluido\nMês 5\nconcluido\nMês 6\nconcluido\nMês 7\nconcluido\nMês 8\nconcluido\nMês 9\nconcluido\nAno 2006\nMês 1\nconcluido\nMês 2\nconcluido\nMês 3\nconcluido\nMês 4\nconcluido\nMês 5\nconcluido\nMês 6\nconcluido\nMês 7\nconcluido\nMês 8\nconcluido\nMês 9\nconcluido\nAno 2007\nMês 1\nconcluido\nMês 2\nconcluido\nMês 3\nconcluido\nMês 4\nconcluido\nMês 5\nconcluido\nMês 6\nconcluido\nMês 7\nconcluido\nMês 8\nconcluido\nMês 9\nconcluido\nAno 2008\nMês 1\nconcluido\nMês 2\nconcluido\nMês 3\nconcluido\nMês 4\nconcluido\nMês 5\nconcluido\nMês 6\nconcluido\nMês 7\nconcluido\nMês 8\nconcluido\nMês 9\nconcluido\nAno 2009\nMês 1\nconcluido\nMês 2\nconcluido\nMês 3\nconcluido\nMês 4\nconcluido\nMês 5\nconcluido\nMês 6\nconcluido\nMês 7\nconcluido\nMês 8\nconcluido\nMês 9\nconcluido\n"
        }
      ]
    },
    {
      "cell_type": "code",
      "metadata": {
        "id": "uE8Lz9FOLCZ0",
        "colab_type": "code",
        "colab": {
          "base_uri": "https://localhost:8080/",
          "height": 1000
        },
        "outputId": "1fb2c2ae-983a-41c6-825e-3facb9ebaae5",
        "tags": []
      },
      "source": [
        "#2000 até 2009 e mês de 10 até 12\n",
        "for i in range(0,10):\n",
        "  print('Ano 200{}'.format(i))\n",
        "  for p in range(0,3):\n",
        "    print('Mês 1{}'.format(p))\n",
        "    URL = f'http://www.nuforc.org/webreports/ndxe200{i}1{p}.html'\n",
        "    headers={\n",
        "        'User-Agent':'Mozilla/5.0 (X11; Linux x86_64) AppleWebKit/537.36 (KHTML, like Gecko) Chrome/51.0.2704.103 Safari/537.36'\n",
        "    }\n",
        "    page = requests.get(URL,headers=headers)\n",
        "    soup = BeautifulSoup(page.content,'html.parser')\n",
        "    table = soup.findAll('table')[0]\n",
        "    tr = table.findAll(['tr'])\n",
        "    try:   \n",
        "            for cell in tr:\n",
        "                td = cell.find_all('td')\n",
        "                row = [i.text.replace('\\n','') for i in td]\n",
        "                td_data.append(row)\n",
        "    finally:   \n",
        "        print('concluido')"
      ],
      "execution_count": 7,
      "outputs": [
        {
          "output_type": "stream",
          "name": "stdout",
          "text": "Ano 2000\nMês 10\nconcluido\nMês 11\nconcluido\nMês 12\nconcluido\nAno 2001\nMês 10\nconcluido\nMês 11\nconcluido\nMês 12\nconcluido\nAno 2002\nMês 10\nconcluido\nMês 11\nconcluido\nMês 12\nconcluido\nAno 2003\nMês 10\nconcluido\nMês 11\nconcluido\nMês 12\nconcluido\nAno 2004\nMês 10\nconcluido\nMês 11\nconcluido\nMês 12\nconcluido\nAno 2005\nMês 10\nconcluido\nMês 11\nconcluido\nMês 12\nconcluido\nAno 2006\nMês 10\nconcluido\nMês 11\nconcluido\nMês 12\nconcluido\nAno 2007\nMês 10\nconcluido\nMês 11\nconcluido\nMês 12\nconcluido\nAno 2008\nMês 10\nconcluido\nMês 11\nconcluido\nMês 12\nconcluido\nAno 2009\nMês 10\nconcluido\nMês 11\nconcluido\nMês 12\nconcluido\n"
        }
      ]
    },
    {
      "cell_type": "code",
      "metadata": {
        "id": "rHNWwNa3K34c",
        "colab_type": "code",
        "colab": {
          "base_uri": "https://localhost:8080/",
          "height": 1000
        },
        "outputId": "88df1d65-2b5a-4a04-adf9-bf6073bfd27b",
        "tags": []
      },
      "source": [
        "#2010 até 2016, mês de 1 até 9\n",
        "for i in range(0,7):\n",
        "  print('Ano 201{}'.format(i))\n",
        "  for p in range(1,10):\n",
        "    print('Mês {}'.format(p))\n",
        "    URL = f'http://www.nuforc.org/webreports/ndxe201{i}0{p}.html'\n",
        "    headers={\n",
        "        'User-Agent':'Mozilla/5.0 (X11; Linux x86_64) AppleWebKit/537.36 (KHTML, like Gecko) Chrome/51.0.2704.103 Safari/537.36'\n",
        "    }\n",
        "    page = requests.get(URL,headers=headers)\n",
        "    soup = BeautifulSoup(page.content,'html.parser')\n",
        "    table = soup.findAll('table')[0]\n",
        "    tr = table.findAll(['tr'])\n",
        "    try:   \n",
        "            for cell in tr:\n",
        "                td = cell.find_all('td')\n",
        "                row = [i.text.replace('\\n','') for i in td]\n",
        "                td_data.append(row)\n",
        "    finally:   \n",
        "        print('concluido')"
      ],
      "execution_count": 8,
      "outputs": [
        {
          "output_type": "stream",
          "name": "stdout",
          "text": "Ano 2010\nMês 1\nconcluido\nMês 2\nconcluido\nMês 3\nconcluido\nMês 4\nconcluido\nMês 5\nconcluido\nMês 6\nconcluido\nMês 7\nconcluido\nMês 8\nconcluido\nMês 9\nconcluido\nAno 2011\nMês 1\nconcluido\nMês 2\nconcluido\nMês 3\nconcluido\nMês 4\nconcluido\nMês 5\nconcluido\nMês 6\nconcluido\nMês 7\nconcluido\nMês 8\nconcluido\nMês 9\nconcluido\nAno 2012\nMês 1\nconcluido\nMês 2\nconcluido\nMês 3\nconcluido\nMês 4\nconcluido\nMês 5\nconcluido\nMês 6\nconcluido\nMês 7\nconcluido\nMês 8\nconcluido\nMês 9\nconcluido\nAno 2013\nMês 1\nconcluido\nMês 2\nconcluido\nMês 3\nconcluido\nMês 4\nconcluido\nMês 5\nconcluido\nMês 6\nconcluido\nMês 7\nconcluido\nMês 8\nconcluido\nMês 9\nconcluido\nAno 2014\nMês 1\nconcluido\nMês 2\nconcluido\nMês 3\nconcluido\nMês 4\nconcluido\nMês 5\nconcluido\nMês 6\nconcluido\nMês 7\nconcluido\nMês 8\nconcluido\nMês 9\nconcluido\nAno 2015\nMês 1\nconcluido\nMês 2\nconcluido\nMês 3\nconcluido\nMês 4\nconcluido\nMês 5\nconcluido\nMês 6\nconcluido\nMês 7\nconcluido\nMês 8\nconcluido\nMês 9\nconcluido\nAno 2016\nMês 1\nconcluido\nMês 2\nconcluido\nMês 3\nconcluido\nMês 4\nconcluido\nMês 5\nconcluido\nMês 6\nconcluido\nMês 7\nconcluido\nMês 8\nconcluido\nMês 9\nconcluido\n"
        }
      ]
    },
    {
      "cell_type": "code",
      "metadata": {
        "id": "IV78FAcnLo09",
        "colab_type": "code",
        "colab": {
          "base_uri": "https://localhost:8080/",
          "height": 850
        },
        "outputId": "bcd5b7f0-5dc1-4209-c412-bcf5d3f894a0",
        "tags": []
      },
      "source": [
        "#2010 até 2016, mês de 10 até 12\n",
        "for i in range(0,7):\n",
        "  print('Ano 201{}'.format(i))\n",
        "  for p in range(0,3):\n",
        "    print('Mês 1{}'.format(p))\n",
        "    URL = f'http://www.nuforc.org/webreports/ndxe201{i}1{p}.html'\n",
        "    headers={\n",
        "        'User-Agent':'Mozilla/5.0 (X11; Linux x86_64) AppleWebKit/537.36 (KHTML, like Gecko) Chrome/51.0.2704.103 Safari/537.36'\n",
        "    }\n",
        "    page = requests.get(URL,headers=headers)\n",
        "    soup = BeautifulSoup(page.content,'html.parser')\n",
        "    table = soup.findAll('table')[0]\n",
        "    tr = table.findAll(['tr'])\n",
        "    try:   \n",
        "            for cell in tr:\n",
        "                td = cell.find_all('td')\n",
        "                row = [i.text.replace('\\n','') for i in td]\n",
        "                td_data.append(row)\n",
        "    finally:   \n",
        "        print('concluido')"
      ],
      "execution_count": 9,
      "outputs": [
        {
          "output_type": "stream",
          "name": "stdout",
          "text": "Ano 2010\nMês 10\nconcluido\nMês 11\nconcluido\nMês 12\nconcluido\nAno 2011\nMês 10\nconcluido\nMês 11\nconcluido\nMês 12\nconcluido\nAno 2012\nMês 10\nconcluido\nMês 11\nconcluido\nMês 12\nconcluido\nAno 2013\nMês 10\nconcluido\nMês 11\nconcluido\nMês 12\nconcluido\nAno 2014\nMês 10\nconcluido\nMês 11\nconcluido\nMês 12\nconcluido\nAno 2015\nMês 10\nconcluido\nMês 11\nconcluido\nMês 12\nconcluido\nAno 2016\nMês 10\nconcluido\nMês 11\nconcluido\nMês 12\nconcluido\n"
        }
      ]
    },
    {
      "cell_type": "code",
      "metadata": {
        "id": "VtI8_tVBLuXg",
        "colab_type": "code",
        "colab": {
          "base_uri": "https://localhost:8080/",
          "height": 306
        },
        "outputId": "71597625-a0d6-4401-92eb-f8d61a0e07a6",
        "tags": []
      },
      "source": [
        "#2017 mês de agosto\n",
        "print('Ano 2017')\n",
        "for p in range(1,9):\n",
        "  print('Mês ',p)\n",
        "  URL = f'http://www.nuforc.org/webreports/ndxe20170{p}.html'\n",
        "  headers={\n",
        "      'User-Agent':'Mozilla/5.0 (X11; Linux x86_64) AppleWebKit/537.36 (KHTML, like Gecko) Chrome/51.0.2704.103 Safari/537.36'\n",
        "  }\n",
        "  page = requests.get(URL,headers=headers)\n",
        "  soup = BeautifulSoup(page.content,'html.parser')\n",
        "  table = soup.findAll('table')[0]\n",
        "  tr = table.findAll(['tr'])\n",
        "  try:   \n",
        "          for cell in tr:\n",
        "              td = cell.find_all('td')\n",
        "              row = [i.text.replace('\\n','') for i in td]\n",
        "              td_data.append(row)\n",
        "  finally:   \n",
        "      print('concluido')"
      ],
      "execution_count": 10,
      "outputs": [
        {
          "output_type": "stream",
          "name": "stdout",
          "text": "Ano 2017\nMês  1\nconcluido\nMês  2\nconcluido\nMês  3\nconcluido\nMês  4\nconcluido\nMês  5\nconcluido\nMês  6\nconcluido\nMês  7\nconcluido\nMês  8\nconcluido\n"
        }
      ]
    },
    {
      "cell_type": "code",
      "metadata": {
        "id": "HefE3RHNINYM",
        "colab_type": "code",
        "colab": {
          "base_uri": "https://localhost:8080/",
          "height": 34
        },
        "outputId": "5ee07c2c-f8c3-413d-b98f-9e8e5c70636f"
      },
      "source": [
        "del th_data[1:-1]\n",
        "th_data.pop(-1)\n",
        "th_data"
      ],
      "execution_count": 11,
      "outputs": [
        {
          "output_type": "execute_result",
          "data": {
            "text/plain": "[['Date / Time', 'City', 'State', 'Shape', 'Duration', 'Summary', 'Posted']]"
          },
          "metadata": {},
          "execution_count": 11
        }
      ]
    },
    {
      "cell_type": "code",
      "metadata": {
        "id": "esNF76D7IVjm",
        "colab_type": "code",
        "colab": {
          "base_uri": "https://localhost:8080/",
          "height": 419
        },
        "outputId": "6f6b93f5-f0ea-4d5b-859b-5a87347d4ef8"
      },
      "source": [
        "df = pd.DataFrame(td_data)\n",
        "df1 = df.dropna()\n",
        "colum = []\n",
        "for i in th_data:\n",
        "  colum = i\n",
        "df1.columns = colum\n",
        "df1"
      ],
      "execution_count": 12,
      "outputs": [
        {
          "output_type": "execute_result",
          "data": {
            "text/plain": "         Date / Time                  City State      Shape       Duration  \\\n1      9/30/97 20:00  Nova Scotia (Canada)    NS      Light  8-10 seconds.   \n2      9/22/97 20:00       Solomons Island    MD       Disk     10 minutes   \n3            9/19/97          Garden Grove    CA  Rectangle        4 mins.   \n4      9/18/97 20:15           Panama City    FL    Unknown     30 seconds   \n5      9/15/97 00:00               Houston    TX       Disk      5 minutes   \n...              ...                   ...   ...        ...            ...   \n72136   8/1/17 02:45              Corcoran    MN      Light    Still going   \n72137   8/1/17 02:00         Moreno Valley    CA      Other     10 seconds   \n72138   8/1/17 01:00             Bradenton    FL      Other    <20 seconds   \n72139   8/1/17 00:00            Springdale    AR                    1 hour   \n72140         8/1/17                Laurel    MD      Other                  \n\n                                                 Summary    Posted  \n1      Single light resembling a star, but moving spu...  10/30/06  \n2                 Close up at twilight,  Stationary UFO.    8/5/09  \n3      Around 6:30 PM I was walking through a Vons Pa...   12/1/19  \n4      Looked like stars in the sky so far up/moveing...   3/13/12  \n5      Beautiful silver-colored flying saucer about t...   7/19/10  \n...                                                  ...       ...  \n72136  Small light south west of Minneapolis maneuver...    8/4/17  \n72137  I was looking out the front windshield and loo...    8/4/17  \n72138  I was walking my dog about 1am on August 1, 20...    5/9/19  \n72139  Glowing flying people . seven of them flying l...   2/13/20  \n72140  It was an alien project level 1 federal ran on...   6/25/20  \n\n[71901 rows x 7 columns]",
            "text/html": "<div>\n<style scoped>\n    .dataframe tbody tr th:only-of-type {\n        vertical-align: middle;\n    }\n\n    .dataframe tbody tr th {\n        vertical-align: top;\n    }\n\n    .dataframe thead th {\n        text-align: right;\n    }\n</style>\n<table border=\"1\" class=\"dataframe\">\n  <thead>\n    <tr style=\"text-align: right;\">\n      <th></th>\n      <th>Date / Time</th>\n      <th>City</th>\n      <th>State</th>\n      <th>Shape</th>\n      <th>Duration</th>\n      <th>Summary</th>\n      <th>Posted</th>\n    </tr>\n  </thead>\n  <tbody>\n    <tr>\n      <th>1</th>\n      <td>9/30/97 20:00</td>\n      <td>Nova Scotia (Canada)</td>\n      <td>NS</td>\n      <td>Light</td>\n      <td>8-10 seconds.</td>\n      <td>Single light resembling a star, but moving spu...</td>\n      <td>10/30/06</td>\n    </tr>\n    <tr>\n      <th>2</th>\n      <td>9/22/97 20:00</td>\n      <td>Solomons Island</td>\n      <td>MD</td>\n      <td>Disk</td>\n      <td>10 minutes</td>\n      <td>Close up at twilight,  Stationary UFO.</td>\n      <td>8/5/09</td>\n    </tr>\n    <tr>\n      <th>3</th>\n      <td>9/19/97</td>\n      <td>Garden Grove</td>\n      <td>CA</td>\n      <td>Rectangle</td>\n      <td>4 mins.</td>\n      <td>Around 6:30 PM I was walking through a Vons Pa...</td>\n      <td>12/1/19</td>\n    </tr>\n    <tr>\n      <th>4</th>\n      <td>9/18/97 20:15</td>\n      <td>Panama City</td>\n      <td>FL</td>\n      <td>Unknown</td>\n      <td>30 seconds</td>\n      <td>Looked like stars in the sky so far up/moveing...</td>\n      <td>3/13/12</td>\n    </tr>\n    <tr>\n      <th>5</th>\n      <td>9/15/97 00:00</td>\n      <td>Houston</td>\n      <td>TX</td>\n      <td>Disk</td>\n      <td>5 minutes</td>\n      <td>Beautiful silver-colored flying saucer about t...</td>\n      <td>7/19/10</td>\n    </tr>\n    <tr>\n      <th>...</th>\n      <td>...</td>\n      <td>...</td>\n      <td>...</td>\n      <td>...</td>\n      <td>...</td>\n      <td>...</td>\n      <td>...</td>\n    </tr>\n    <tr>\n      <th>72136</th>\n      <td>8/1/17 02:45</td>\n      <td>Corcoran</td>\n      <td>MN</td>\n      <td>Light</td>\n      <td>Still going</td>\n      <td>Small light south west of Minneapolis maneuver...</td>\n      <td>8/4/17</td>\n    </tr>\n    <tr>\n      <th>72137</th>\n      <td>8/1/17 02:00</td>\n      <td>Moreno Valley</td>\n      <td>CA</td>\n      <td>Other</td>\n      <td>10 seconds</td>\n      <td>I was looking out the front windshield and loo...</td>\n      <td>8/4/17</td>\n    </tr>\n    <tr>\n      <th>72138</th>\n      <td>8/1/17 01:00</td>\n      <td>Bradenton</td>\n      <td>FL</td>\n      <td>Other</td>\n      <td>&lt;20 seconds</td>\n      <td>I was walking my dog about 1am on August 1, 20...</td>\n      <td>5/9/19</td>\n    </tr>\n    <tr>\n      <th>72139</th>\n      <td>8/1/17 00:00</td>\n      <td>Springdale</td>\n      <td>AR</td>\n      <td></td>\n      <td>1 hour</td>\n      <td>Glowing flying people . seven of them flying l...</td>\n      <td>2/13/20</td>\n    </tr>\n    <tr>\n      <th>72140</th>\n      <td>8/1/17</td>\n      <td>Laurel</td>\n      <td>MD</td>\n      <td>Other</td>\n      <td></td>\n      <td>It was an alien project level 1 federal ran on...</td>\n      <td>6/25/20</td>\n    </tr>\n  </tbody>\n</table>\n<p>71901 rows × 7 columns</p>\n</div>"
          },
          "metadata": {},
          "execution_count": 12
        }
      ]
    },
    {
      "cell_type": "code",
      "metadata": {
        "id": "SRt0Nmc52QK6",
        "colab_type": "code",
        "colab": {
          "base_uri": "https://localhost:8080/",
          "height": 419
        },
        "outputId": "fcf7105e-60e0-4fb4-d6aa-e81f5771081a"
      },
      "source": [
        "df1.to_csv('OVNIS.csv',index=False)\n",
        "total = pd.read_csv('OVNIS.csv')\n",
        "total"
      ],
      "execution_count": 14,
      "outputs": [
        {
          "output_type": "execute_result",
          "data": {
            "text/plain": "         Date / Time                  City State      Shape       Duration  \\\n0      9/30/97 20:00  Nova Scotia (Canada)    NS      Light  8-10 seconds.   \n1      9/22/97 20:00       Solomons Island    MD       Disk     10 minutes   \n2            9/19/97          Garden Grove    CA  Rectangle        4 mins.   \n3      9/18/97 20:15           Panama City    FL    Unknown     30 seconds   \n4      9/15/97 00:00               Houston    TX       Disk      5 minutes   \n...              ...                   ...   ...        ...            ...   \n71896   8/1/17 02:45              Corcoran    MN      Light    Still going   \n71897   8/1/17 02:00         Moreno Valley    CA      Other     10 seconds   \n71898   8/1/17 01:00             Bradenton    FL      Other    <20 seconds   \n71899   8/1/17 00:00            Springdale    AR        NaN         1 hour   \n71900         8/1/17                Laurel    MD      Other            NaN   \n\n                                                 Summary    Posted  \n0      Single light resembling a star, but moving spu...  10/30/06  \n1                 Close up at twilight,  Stationary UFO.    8/5/09  \n2      Around 6:30 PM I was walking through a Vons Pa...   12/1/19  \n3      Looked like stars in the sky so far up/moveing...   3/13/12  \n4      Beautiful silver-colored flying saucer about t...   7/19/10  \n...                                                  ...       ...  \n71896  Small light south west of Minneapolis maneuver...    8/4/17  \n71897  I was looking out the front windshield and loo...    8/4/17  \n71898  I was walking my dog about 1am on August 1, 20...    5/9/19  \n71899  Glowing flying people . seven of them flying l...   2/13/20  \n71900  It was an alien project level 1 federal ran on...   6/25/20  \n\n[71901 rows x 7 columns]",
            "text/html": "<div>\n<style scoped>\n    .dataframe tbody tr th:only-of-type {\n        vertical-align: middle;\n    }\n\n    .dataframe tbody tr th {\n        vertical-align: top;\n    }\n\n    .dataframe thead th {\n        text-align: right;\n    }\n</style>\n<table border=\"1\" class=\"dataframe\">\n  <thead>\n    <tr style=\"text-align: right;\">\n      <th></th>\n      <th>Date / Time</th>\n      <th>City</th>\n      <th>State</th>\n      <th>Shape</th>\n      <th>Duration</th>\n      <th>Summary</th>\n      <th>Posted</th>\n    </tr>\n  </thead>\n  <tbody>\n    <tr>\n      <th>0</th>\n      <td>9/30/97 20:00</td>\n      <td>Nova Scotia (Canada)</td>\n      <td>NS</td>\n      <td>Light</td>\n      <td>8-10 seconds.</td>\n      <td>Single light resembling a star, but moving spu...</td>\n      <td>10/30/06</td>\n    </tr>\n    <tr>\n      <th>1</th>\n      <td>9/22/97 20:00</td>\n      <td>Solomons Island</td>\n      <td>MD</td>\n      <td>Disk</td>\n      <td>10 minutes</td>\n      <td>Close up at twilight,  Stationary UFO.</td>\n      <td>8/5/09</td>\n    </tr>\n    <tr>\n      <th>2</th>\n      <td>9/19/97</td>\n      <td>Garden Grove</td>\n      <td>CA</td>\n      <td>Rectangle</td>\n      <td>4 mins.</td>\n      <td>Around 6:30 PM I was walking through a Vons Pa...</td>\n      <td>12/1/19</td>\n    </tr>\n    <tr>\n      <th>3</th>\n      <td>9/18/97 20:15</td>\n      <td>Panama City</td>\n      <td>FL</td>\n      <td>Unknown</td>\n      <td>30 seconds</td>\n      <td>Looked like stars in the sky so far up/moveing...</td>\n      <td>3/13/12</td>\n    </tr>\n    <tr>\n      <th>4</th>\n      <td>9/15/97 00:00</td>\n      <td>Houston</td>\n      <td>TX</td>\n      <td>Disk</td>\n      <td>5 minutes</td>\n      <td>Beautiful silver-colored flying saucer about t...</td>\n      <td>7/19/10</td>\n    </tr>\n    <tr>\n      <th>...</th>\n      <td>...</td>\n      <td>...</td>\n      <td>...</td>\n      <td>...</td>\n      <td>...</td>\n      <td>...</td>\n      <td>...</td>\n    </tr>\n    <tr>\n      <th>71896</th>\n      <td>8/1/17 02:45</td>\n      <td>Corcoran</td>\n      <td>MN</td>\n      <td>Light</td>\n      <td>Still going</td>\n      <td>Small light south west of Minneapolis maneuver...</td>\n      <td>8/4/17</td>\n    </tr>\n    <tr>\n      <th>71897</th>\n      <td>8/1/17 02:00</td>\n      <td>Moreno Valley</td>\n      <td>CA</td>\n      <td>Other</td>\n      <td>10 seconds</td>\n      <td>I was looking out the front windshield and loo...</td>\n      <td>8/4/17</td>\n    </tr>\n    <tr>\n      <th>71898</th>\n      <td>8/1/17 01:00</td>\n      <td>Bradenton</td>\n      <td>FL</td>\n      <td>Other</td>\n      <td>&lt;20 seconds</td>\n      <td>I was walking my dog about 1am on August 1, 20...</td>\n      <td>5/9/19</td>\n    </tr>\n    <tr>\n      <th>71899</th>\n      <td>8/1/17 00:00</td>\n      <td>Springdale</td>\n      <td>AR</td>\n      <td>NaN</td>\n      <td>1 hour</td>\n      <td>Glowing flying people . seven of them flying l...</td>\n      <td>2/13/20</td>\n    </tr>\n    <tr>\n      <th>71900</th>\n      <td>8/1/17</td>\n      <td>Laurel</td>\n      <td>MD</td>\n      <td>Other</td>\n      <td>NaN</td>\n      <td>It was an alien project level 1 federal ran on...</td>\n      <td>6/25/20</td>\n    </tr>\n  </tbody>\n</table>\n<p>71901 rows × 7 columns</p>\n</div>"
          },
          "metadata": {},
          "execution_count": 14
        }
      ]
    }
  ]
}